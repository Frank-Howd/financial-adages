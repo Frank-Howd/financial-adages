{
  "nbformat": 4,
  "nbformat_minor": 0,
  "metadata": {
    "colab": {
      "name": "Frank_Howd_DS23_Unit1_Project_Public.ipynb",
      "provenance": [],
      "collapsed_sections": []
    },
    "kernelspec": {
      "name": "python3",
      "display_name": "Python 3"
    }
  },
  "cells": [
    {
      "cell_type": "markdown",
      "metadata": {
        "id": "7z_XRehJO7-T"
      },
      "source": [
        "#*An Examination of Some Financial Adages*\n"
      ]
    },
    {
      "cell_type": "markdown",
      "metadata": {
        "id": "UtwFN59oPVkn"
      },
      "source": [
        "###*First Steps:*\n",
        "\n",
        "Import and wrangle data\n",
        "\n",
        "*All data has been sourced from the [Federal Reserve Bank of St. Louis](https://fred.stlouisfed.org/).  Three .csv files were utilized in the creation of this project. FRED only provides 10-years worth of data for the S&P 500 index, so I used this same 10-year period for all variables examined.  I worked with monthly data for everything but corporate profits, as these are released quarterly.  This forced me to wrangle, and decrease the size of my data set to 39 quarterly data points for all of the variables examined.  Enough to be statistically significant, but by no way encompassing.*"
      ]
    },
    {
      "cell_type": "code",
      "metadata": {
        "id": "HgBXIgDxPX0F"
      },
      "source": [
        "# Grab and clean data.\n",
        "\n",
        "import numpy as np\n",
        "import pandas as pd\n",
        "import matplotlib.pyplot as plt\n",
        "import seaborn as sns\n",
        "from statsmodels.formula.api import ols\n"
      ],
      "execution_count": null,
      "outputs": []
    },
    {
      "cell_type": "code",
      "metadata": {
        "id": "jV3zFifSPpXt",
        "colab": {
          "resources": {
            "http://localhost:8080/nbextensions/google.colab/files.js": {
              "data": "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",
              "ok": true,
              "headers": [
                [
                  "content-type",
                  "application/javascript"
                ]
              ],
              "status": 200,
              "status_text": ""
            }
          },
          "base_uri": "https://localhost:8080/",
          "height": 141
        },
        "outputId": "3cf9bfc0-ce11-4b7a-f7f2-0feb29eb7c12"
      },
      "source": [
        "from google.colab import files\n",
        "files = files.upload()"
      ],
      "execution_count": null,
      "outputs": [
        {
          "output_type": "display_data",
          "data": {
            "text/html": [
              "\n",
              "     <input type=\"file\" id=\"files-ce02243c-4d14-4980-a846-1eb109befc17\" name=\"files[]\" multiple disabled\n",
              "        style=\"border:none\" />\n",
              "     <output id=\"result-ce02243c-4d14-4980-a846-1eb109befc17\">\n",
              "      Upload widget is only available when the cell has been executed in the\n",
              "      current browser session. Please rerun this cell to enable.\n",
              "      </output>\n",
              "      <script src=\"/nbextensions/google.colab/files.js\"></script> "
            ],
            "text/plain": [
              "<IPython.core.display.HTML object>"
            ]
          },
          "metadata": {
            "tags": []
          }
        },
        {
          "output_type": "stream",
          "text": [
            "Saving SP500_M2_monthly.csv to SP500_M2_monthly (3).csv\n",
            "Saving SP500_CorpProfits_Quarterly.csv to SP500_CorpProfits_Quarterly (3).csv\n",
            "Saving SP500_10year_monthly.csv to SP500_10year_monthly (3).csv\n"
          ],
          "name": "stdout"
        }
      ]
    },
    {
      "cell_type": "code",
      "metadata": {
        "colab": {
          "base_uri": "https://localhost:8080/",
          "height": 365
        },
        "id": "jauBq_9HPu2f",
        "outputId": "6bd37b07-af7d-4618-8091-954649fc7930"
      },
      "source": [
        "# Read in montly data points from the S&P 500 Index, and for the 10-year Treasury.\n",
        "\n",
        "SP500_10year_df = pd.read_csv('SP500_10year_monthly.csv')\n",
        "\n",
        "# print out the shape and head of the data.\n",
        "\n",
        "print(SP500_10year_df.shape)\n",
        "display(SP500_10year_df.head(10))"
      ],
      "execution_count": null,
      "outputs": [
        {
          "output_type": "stream",
          "text": [
            "(121, 3)\n"
          ],
          "name": "stdout"
        },
        {
          "output_type": "display_data",
          "data": {
            "text/html": [
              "<div>\n",
              "<style scoped>\n",
              "    .dataframe tbody tr th:only-of-type {\n",
              "        vertical-align: middle;\n",
              "    }\n",
              "\n",
              "    .dataframe tbody tr th {\n",
              "        vertical-align: top;\n",
              "    }\n",
              "\n",
              "    .dataframe thead th {\n",
              "        text-align: right;\n",
              "    }\n",
              "</style>\n",
              "<table border=\"1\" class=\"dataframe\">\n",
              "  <thead>\n",
              "    <tr style=\"text-align: right;\">\n",
              "      <th></th>\n",
              "      <th>DATE</th>\n",
              "      <th>SP500</th>\n",
              "      <th>DGS10</th>\n",
              "    </tr>\n",
              "  </thead>\n",
              "  <tbody>\n",
              "    <tr>\n",
              "      <th>0</th>\n",
              "      <td>2010-11-01</td>\n",
              "      <td>.</td>\n",
              "      <td>2.763000</td>\n",
              "    </tr>\n",
              "    <tr>\n",
              "      <th>1</th>\n",
              "      <td>2010-12-01</td>\n",
              "      <td>.</td>\n",
              "      <td>3.290909</td>\n",
              "    </tr>\n",
              "    <tr>\n",
              "      <th>2</th>\n",
              "      <td>2011-01-01</td>\n",
              "      <td>1282.6185000000000000</td>\n",
              "      <td>3.394000</td>\n",
              "    </tr>\n",
              "    <tr>\n",
              "      <th>3</th>\n",
              "      <td>2011-02-01</td>\n",
              "      <td>1321.1178947368421053</td>\n",
              "      <td>3.576316</td>\n",
              "    </tr>\n",
              "    <tr>\n",
              "      <th>4</th>\n",
              "      <td>2011-03-01</td>\n",
              "      <td>1304.4860869565217391</td>\n",
              "      <td>3.414348</td>\n",
              "    </tr>\n",
              "    <tr>\n",
              "      <th>5</th>\n",
              "      <td>2011-04-01</td>\n",
              "      <td>1331.5050000000000000</td>\n",
              "      <td>3.455000</td>\n",
              "    </tr>\n",
              "    <tr>\n",
              "      <th>6</th>\n",
              "      <td>2011-05-01</td>\n",
              "      <td>1338.3104761904761905</td>\n",
              "      <td>3.168571</td>\n",
              "    </tr>\n",
              "    <tr>\n",
              "      <th>7</th>\n",
              "      <td>2011-06-01</td>\n",
              "      <td>1287.2886363636363636</td>\n",
              "      <td>3.002273</td>\n",
              "    </tr>\n",
              "    <tr>\n",
              "      <th>8</th>\n",
              "      <td>2011-07-01</td>\n",
              "      <td>1325.1845000000000000</td>\n",
              "      <td>3.003000</td>\n",
              "    </tr>\n",
              "    <tr>\n",
              "      <th>9</th>\n",
              "      <td>2011-08-01</td>\n",
              "      <td>1185.3056521739130435</td>\n",
              "      <td>2.303043</td>\n",
              "    </tr>\n",
              "  </tbody>\n",
              "</table>\n",
              "</div>"
            ],
            "text/plain": [
              "         DATE                  SP500     DGS10\n",
              "0  2010-11-01                      .  2.763000\n",
              "1  2010-12-01                      .  3.290909\n",
              "2  2011-01-01  1282.6185000000000000  3.394000\n",
              "3  2011-02-01  1321.1178947368421053  3.576316\n",
              "4  2011-03-01  1304.4860869565217391  3.414348\n",
              "5  2011-04-01  1331.5050000000000000  3.455000\n",
              "6  2011-05-01  1338.3104761904761905  3.168571\n",
              "7  2011-06-01  1287.2886363636363636  3.002273\n",
              "8  2011-07-01  1325.1845000000000000  3.003000\n",
              "9  2011-08-01  1185.3056521739130435  2.303043"
            ]
          },
          "metadata": {
            "tags": []
          }
        }
      ]
    },
    {
      "cell_type": "code",
      "metadata": {
        "colab": {
          "base_uri": "https://localhost:8080/"
        },
        "id": "JcoSSPs6Ql6O",
        "outputId": "6dd6f1e2-b96a-41b0-8982-c530172a1b98"
      },
      "source": [
        "# Examine the data for any NaN / Na values.\n",
        "\n",
        "SP500_10year_df.isna().sum()"
      ],
      "execution_count": null,
      "outputs": [
        {
          "output_type": "execute_result",
          "data": {
            "text/plain": [
              "DATE     0\n",
              "SP500    0\n",
              "DGS10    0\n",
              "dtype: int64"
            ]
          },
          "metadata": {
            "tags": []
          },
          "execution_count": 65
        }
      ]
    },
    {
      "cell_type": "code",
      "metadata": {
        "colab": {
          "base_uri": "https://localhost:8080/"
        },
        "id": "ALoHA_GXQztv",
        "outputId": "ca83b591-ab3a-47b5-90c8-38da9560e5cd"
      },
      "source": [
        "# Ensure there are no spaces on either side of the feature names to be stripped.\n",
        "\n",
        "cols = list(SP500_10year_df.columns)\n",
        "print(cols, \"\\n\")\n",
        "\n",
        "# Probe data for types of objects stored.\n",
        "\n",
        "print(SP500_10year_df.dtypes, \"\\n\")\n",
        "\n",
        "# Closer examination of an entry in the 'DATE' feature/variable.\n",
        "\n",
        "print(type(SP500_10year_df.loc[6, 'DATE']), end=' ')\n",
        "\n",
        "# Closer examination of an entry in the 'SP500' feature/variable.\n",
        "\n",
        "print(type(SP500_10year_df.loc[6, 'SP500']))"
      ],
      "execution_count": null,
      "outputs": [
        {
          "output_type": "stream",
          "text": [
            "['DATE', 'SP500', 'DGS10'] \n",
            "\n",
            "DATE      object\n",
            "SP500     object\n",
            "DGS10    float64\n",
            "dtype: object \n",
            "\n",
            "<class 'str'> <class 'str'>\n"
          ],
          "name": "stdout"
        }
      ]
    },
    {
      "cell_type": "code",
      "metadata": {
        "colab": {
          "base_uri": "https://localhost:8080/",
          "height": 215
        },
        "id": "nLhPoOJYSb-4",
        "outputId": "a218b528-efa6-4ece-fefa-3129b0197415"
      },
      "source": [
        "# Slice off the first two entries; they have no values for the 'SP500' feature.\n",
        "\n",
        "SP500_10year_df = SP500_10year_df[2:]\n",
        "\n",
        "print(SP500_10year_df.shape)\n",
        "display(SP500_10year_df.head())"
      ],
      "execution_count": null,
      "outputs": [
        {
          "output_type": "stream",
          "text": [
            "(119, 3)\n"
          ],
          "name": "stdout"
        },
        {
          "output_type": "display_data",
          "data": {
            "text/html": [
              "<div>\n",
              "<style scoped>\n",
              "    .dataframe tbody tr th:only-of-type {\n",
              "        vertical-align: middle;\n",
              "    }\n",
              "\n",
              "    .dataframe tbody tr th {\n",
              "        vertical-align: top;\n",
              "    }\n",
              "\n",
              "    .dataframe thead th {\n",
              "        text-align: right;\n",
              "    }\n",
              "</style>\n",
              "<table border=\"1\" class=\"dataframe\">\n",
              "  <thead>\n",
              "    <tr style=\"text-align: right;\">\n",
              "      <th></th>\n",
              "      <th>DATE</th>\n",
              "      <th>SP500</th>\n",
              "      <th>DGS10</th>\n",
              "    </tr>\n",
              "  </thead>\n",
              "  <tbody>\n",
              "    <tr>\n",
              "      <th>2</th>\n",
              "      <td>2011-01-01</td>\n",
              "      <td>1282.6185000000000000</td>\n",
              "      <td>3.394000</td>\n",
              "    </tr>\n",
              "    <tr>\n",
              "      <th>3</th>\n",
              "      <td>2011-02-01</td>\n",
              "      <td>1321.1178947368421053</td>\n",
              "      <td>3.576316</td>\n",
              "    </tr>\n",
              "    <tr>\n",
              "      <th>4</th>\n",
              "      <td>2011-03-01</td>\n",
              "      <td>1304.4860869565217391</td>\n",
              "      <td>3.414348</td>\n",
              "    </tr>\n",
              "    <tr>\n",
              "      <th>5</th>\n",
              "      <td>2011-04-01</td>\n",
              "      <td>1331.5050000000000000</td>\n",
              "      <td>3.455000</td>\n",
              "    </tr>\n",
              "    <tr>\n",
              "      <th>6</th>\n",
              "      <td>2011-05-01</td>\n",
              "      <td>1338.3104761904761905</td>\n",
              "      <td>3.168571</td>\n",
              "    </tr>\n",
              "  </tbody>\n",
              "</table>\n",
              "</div>"
            ],
            "text/plain": [
              "         DATE                  SP500     DGS10\n",
              "2  2011-01-01  1282.6185000000000000  3.394000\n",
              "3  2011-02-01  1321.1178947368421053  3.576316\n",
              "4  2011-03-01  1304.4860869565217391  3.414348\n",
              "5  2011-04-01  1331.5050000000000000  3.455000\n",
              "6  2011-05-01  1338.3104761904761905  3.168571"
            ]
          },
          "metadata": {
            "tags": []
          }
        }
      ]
    },
    {
      "cell_type": "code",
      "metadata": {
        "colab": {
          "base_uri": "https://localhost:8080/",
          "height": 215
        },
        "id": "YTLvlwgrTbb1",
        "outputId": "92dcb46c-4283-451d-e9c7-ef7dbcc8dd07"
      },
      "source": [
        "# Reset the index.\n",
        "\n",
        "SP500_10year_df.reset_index(drop=True, inplace=True)\n",
        "\n",
        "print(SP500_10year_df.shape)\n",
        "display(SP500_10year_df.head())"
      ],
      "execution_count": null,
      "outputs": [
        {
          "output_type": "stream",
          "text": [
            "(119, 3)\n"
          ],
          "name": "stdout"
        },
        {
          "output_type": "display_data",
          "data": {
            "text/html": [
              "<div>\n",
              "<style scoped>\n",
              "    .dataframe tbody tr th:only-of-type {\n",
              "        vertical-align: middle;\n",
              "    }\n",
              "\n",
              "    .dataframe tbody tr th {\n",
              "        vertical-align: top;\n",
              "    }\n",
              "\n",
              "    .dataframe thead th {\n",
              "        text-align: right;\n",
              "    }\n",
              "</style>\n",
              "<table border=\"1\" class=\"dataframe\">\n",
              "  <thead>\n",
              "    <tr style=\"text-align: right;\">\n",
              "      <th></th>\n",
              "      <th>DATE</th>\n",
              "      <th>SP500</th>\n",
              "      <th>DGS10</th>\n",
              "    </tr>\n",
              "  </thead>\n",
              "  <tbody>\n",
              "    <tr>\n",
              "      <th>0</th>\n",
              "      <td>2011-01-01</td>\n",
              "      <td>1282.6185000000000000</td>\n",
              "      <td>3.394000</td>\n",
              "    </tr>\n",
              "    <tr>\n",
              "      <th>1</th>\n",
              "      <td>2011-02-01</td>\n",
              "      <td>1321.1178947368421053</td>\n",
              "      <td>3.576316</td>\n",
              "    </tr>\n",
              "    <tr>\n",
              "      <th>2</th>\n",
              "      <td>2011-03-01</td>\n",
              "      <td>1304.4860869565217391</td>\n",
              "      <td>3.414348</td>\n",
              "    </tr>\n",
              "    <tr>\n",
              "      <th>3</th>\n",
              "      <td>2011-04-01</td>\n",
              "      <td>1331.5050000000000000</td>\n",
              "      <td>3.455000</td>\n",
              "    </tr>\n",
              "    <tr>\n",
              "      <th>4</th>\n",
              "      <td>2011-05-01</td>\n",
              "      <td>1338.3104761904761905</td>\n",
              "      <td>3.168571</td>\n",
              "    </tr>\n",
              "  </tbody>\n",
              "</table>\n",
              "</div>"
            ],
            "text/plain": [
              "         DATE                  SP500     DGS10\n",
              "0  2011-01-01  1282.6185000000000000  3.394000\n",
              "1  2011-02-01  1321.1178947368421053  3.576316\n",
              "2  2011-03-01  1304.4860869565217391  3.414348\n",
              "3  2011-04-01  1331.5050000000000000  3.455000\n",
              "4  2011-05-01  1338.3104761904761905  3.168571"
            ]
          },
          "metadata": {
            "tags": []
          }
        }
      ]
    },
    {
      "cell_type": "code",
      "metadata": {
        "colab": {
          "base_uri": "https://localhost:8080/",
          "height": 198
        },
        "id": "hFFCUEVfTpqe",
        "outputId": "5c326833-eda9-4ef4-cb68-849279d9c9ba"
      },
      "source": [
        "display(SP500_10year_df.tail())"
      ],
      "execution_count": null,
      "outputs": [
        {
          "output_type": "display_data",
          "data": {
            "text/html": [
              "<div>\n",
              "<style scoped>\n",
              "    .dataframe tbody tr th:only-of-type {\n",
              "        vertical-align: middle;\n",
              "    }\n",
              "\n",
              "    .dataframe tbody tr th {\n",
              "        vertical-align: top;\n",
              "    }\n",
              "\n",
              "    .dataframe thead th {\n",
              "        text-align: right;\n",
              "    }\n",
              "</style>\n",
              "<table border=\"1\" class=\"dataframe\">\n",
              "  <thead>\n",
              "    <tr style=\"text-align: right;\">\n",
              "      <th></th>\n",
              "      <th>DATE</th>\n",
              "      <th>SP500</th>\n",
              "      <th>DGS10</th>\n",
              "    </tr>\n",
              "  </thead>\n",
              "  <tbody>\n",
              "    <tr>\n",
              "      <th>114</th>\n",
              "      <td>2020-07-01</td>\n",
              "      <td>3207.6190909090909091</td>\n",
              "      <td>0.623636</td>\n",
              "    </tr>\n",
              "    <tr>\n",
              "      <th>115</th>\n",
              "      <td>2020-08-01</td>\n",
              "      <td>3391.7100000000000000</td>\n",
              "      <td>0.650000</td>\n",
              "    </tr>\n",
              "    <tr>\n",
              "      <th>116</th>\n",
              "      <td>2020-09-01</td>\n",
              "      <td>3365.5166666666666667</td>\n",
              "      <td>0.679524</td>\n",
              "    </tr>\n",
              "    <tr>\n",
              "      <th>117</th>\n",
              "      <td>2020-10-01</td>\n",
              "      <td>3418.7013636363636364</td>\n",
              "      <td>0.787143</td>\n",
              "    </tr>\n",
              "    <tr>\n",
              "      <th>118</th>\n",
              "      <td>2020-11-01</td>\n",
              "      <td>3548.9925000000000000</td>\n",
              "      <td>0.870000</td>\n",
              "    </tr>\n",
              "  </tbody>\n",
              "</table>\n",
              "</div>"
            ],
            "text/plain": [
              "           DATE                  SP500     DGS10\n",
              "114  2020-07-01  3207.6190909090909091  0.623636\n",
              "115  2020-08-01  3391.7100000000000000  0.650000\n",
              "116  2020-09-01  3365.5166666666666667  0.679524\n",
              "117  2020-10-01  3418.7013636363636364  0.787143\n",
              "118  2020-11-01  3548.9925000000000000  0.870000"
            ]
          },
          "metadata": {
            "tags": []
          }
        }
      ]
    },
    {
      "cell_type": "code",
      "metadata": {
        "colab": {
          "base_uri": "https://localhost:8080/",
          "height": 215
        },
        "id": "no-FKCZyTzOc",
        "outputId": "9317a110-983a-4bb9-b909-727b1410776d"
      },
      "source": [
        "# Read in the montly data points for the M2 money supply.\n",
        "\n",
        "M2_df = pd.read_csv('SP500_M2_monthly.csv')\n",
        "\n",
        "# print out the shape and head of the data.\n",
        "\n",
        "print(M2_df.shape)\n",
        "display(M2_df.head())"
      ],
      "execution_count": null,
      "outputs": [
        {
          "output_type": "stream",
          "text": [
            "(121, 3)\n"
          ],
          "name": "stdout"
        },
        {
          "output_type": "display_data",
          "data": {
            "text/html": [
              "<div>\n",
              "<style scoped>\n",
              "    .dataframe tbody tr th:only-of-type {\n",
              "        vertical-align: middle;\n",
              "    }\n",
              "\n",
              "    .dataframe tbody tr th {\n",
              "        vertical-align: top;\n",
              "    }\n",
              "\n",
              "    .dataframe thead th {\n",
              "        text-align: right;\n",
              "    }\n",
              "</style>\n",
              "<table border=\"1\" class=\"dataframe\">\n",
              "  <thead>\n",
              "    <tr style=\"text-align: right;\">\n",
              "      <th></th>\n",
              "      <th>DATE</th>\n",
              "      <th>SP500</th>\n",
              "      <th>M2</th>\n",
              "    </tr>\n",
              "  </thead>\n",
              "  <tbody>\n",
              "    <tr>\n",
              "      <th>0</th>\n",
              "      <td>2010-11-01</td>\n",
              "      <td>.</td>\n",
              "      <td>8755.120</td>\n",
              "    </tr>\n",
              "    <tr>\n",
              "      <th>1</th>\n",
              "      <td>2010-12-01</td>\n",
              "      <td>.</td>\n",
              "      <td>8788.950</td>\n",
              "    </tr>\n",
              "    <tr>\n",
              "      <th>2</th>\n",
              "      <td>2011-01-01</td>\n",
              "      <td>1282.6185000000000000</td>\n",
              "      <td>8821.480</td>\n",
              "    </tr>\n",
              "    <tr>\n",
              "      <th>3</th>\n",
              "      <td>2011-02-01</td>\n",
              "      <td>1321.1178947368421053</td>\n",
              "      <td>8871.375</td>\n",
              "    </tr>\n",
              "    <tr>\n",
              "      <th>4</th>\n",
              "      <td>2011-03-01</td>\n",
              "      <td>1304.4860869565217391</td>\n",
              "      <td>8913.025</td>\n",
              "    </tr>\n",
              "  </tbody>\n",
              "</table>\n",
              "</div>"
            ],
            "text/plain": [
              "         DATE                  SP500        M2\n",
              "0  2010-11-01                      .  8755.120\n",
              "1  2010-12-01                      .  8788.950\n",
              "2  2011-01-01  1282.6185000000000000  8821.480\n",
              "3  2011-02-01  1321.1178947368421053  8871.375\n",
              "4  2011-03-01  1304.4860869565217391  8913.025"
            ]
          },
          "metadata": {
            "tags": []
          }
        }
      ]
    },
    {
      "cell_type": "code",
      "metadata": {
        "colab": {
          "base_uri": "https://localhost:8080/"
        },
        "id": "Za7dCdRuUFO3",
        "outputId": "0255b1de-cff5-439a-8252-a715546e3b6e"
      },
      "source": [
        "# Examine for data types and NaN values.\n",
        "\n",
        "print(M2_df.info())"
      ],
      "execution_count": null,
      "outputs": [
        {
          "output_type": "stream",
          "text": [
            "<class 'pandas.core.frame.DataFrame'>\n",
            "RangeIndex: 121 entries, 0 to 120\n",
            "Data columns (total 3 columns):\n",
            " #   Column  Non-Null Count  Dtype  \n",
            "---  ------  --------------  -----  \n",
            " 0   DATE    121 non-null    object \n",
            " 1   SP500   121 non-null    object \n",
            " 2   M2      121 non-null    float64\n",
            "dtypes: float64(1), object(2)\n",
            "memory usage: 3.0+ KB\n",
            "None\n"
          ],
          "name": "stdout"
        }
      ]
    },
    {
      "cell_type": "code",
      "metadata": {
        "colab": {
          "base_uri": "https://localhost:8080/"
        },
        "id": "t0IvGW14UNmM",
        "outputId": "a0fbecde-c58d-45c2-8d7a-bd8fd06f7908"
      },
      "source": [
        "# Examine column names for spaces to strip on either side of name.\n",
        "\n",
        "cols = list(M2_df.columns)\n",
        "print(cols, \"\\n\")\n",
        "\n",
        "# Closer examination of the 'DATE', 'SP500', and 'M2' features/variables.\n",
        "\n",
        "print(type(M2_df.loc[2, 'DATE']), end=' ')\n",
        "print(type(M2_df.loc[2, 'SP500']), end=' ')\n",
        "print(type(M2_df.loc[2, 'M2']))"
      ],
      "execution_count": null,
      "outputs": [
        {
          "output_type": "stream",
          "text": [
            "['DATE', 'SP500', 'M2'] \n",
            "\n",
            "<class 'str'> <class 'str'> <class 'numpy.float64'>\n"
          ],
          "name": "stdout"
        }
      ]
    },
    {
      "cell_type": "code",
      "metadata": {
        "colab": {
          "base_uri": "https://localhost:8080/",
          "height": 215
        },
        "id": "wZdJVNVVUoNv",
        "outputId": "4bbdeb12-f591-4971-8554-33fd53fe281d"
      },
      "source": [
        "# Exclude the first two entries; they have no values for the 'SP500' feature.\n",
        "\n",
        "M2_df = M2_df[2:]\n",
        "\n",
        "print(M2_df.shape)\n",
        "display(M2_df.head())"
      ],
      "execution_count": null,
      "outputs": [
        {
          "output_type": "stream",
          "text": [
            "(119, 3)\n"
          ],
          "name": "stdout"
        },
        {
          "output_type": "display_data",
          "data": {
            "text/html": [
              "<div>\n",
              "<style scoped>\n",
              "    .dataframe tbody tr th:only-of-type {\n",
              "        vertical-align: middle;\n",
              "    }\n",
              "\n",
              "    .dataframe tbody tr th {\n",
              "        vertical-align: top;\n",
              "    }\n",
              "\n",
              "    .dataframe thead th {\n",
              "        text-align: right;\n",
              "    }\n",
              "</style>\n",
              "<table border=\"1\" class=\"dataframe\">\n",
              "  <thead>\n",
              "    <tr style=\"text-align: right;\">\n",
              "      <th></th>\n",
              "      <th>DATE</th>\n",
              "      <th>SP500</th>\n",
              "      <th>M2</th>\n",
              "    </tr>\n",
              "  </thead>\n",
              "  <tbody>\n",
              "    <tr>\n",
              "      <th>2</th>\n",
              "      <td>2011-01-01</td>\n",
              "      <td>1282.6185000000000000</td>\n",
              "      <td>8821.480</td>\n",
              "    </tr>\n",
              "    <tr>\n",
              "      <th>3</th>\n",
              "      <td>2011-02-01</td>\n",
              "      <td>1321.1178947368421053</td>\n",
              "      <td>8871.375</td>\n",
              "    </tr>\n",
              "    <tr>\n",
              "      <th>4</th>\n",
              "      <td>2011-03-01</td>\n",
              "      <td>1304.4860869565217391</td>\n",
              "      <td>8913.025</td>\n",
              "    </tr>\n",
              "    <tr>\n",
              "      <th>5</th>\n",
              "      <td>2011-04-01</td>\n",
              "      <td>1331.5050000000000000</td>\n",
              "      <td>8966.725</td>\n",
              "    </tr>\n",
              "    <tr>\n",
              "      <th>6</th>\n",
              "      <td>2011-05-01</td>\n",
              "      <td>1338.3104761904761905</td>\n",
              "      <td>9027.200</td>\n",
              "    </tr>\n",
              "  </tbody>\n",
              "</table>\n",
              "</div>"
            ],
            "text/plain": [
              "         DATE                  SP500        M2\n",
              "2  2011-01-01  1282.6185000000000000  8821.480\n",
              "3  2011-02-01  1321.1178947368421053  8871.375\n",
              "4  2011-03-01  1304.4860869565217391  8913.025\n",
              "5  2011-04-01  1331.5050000000000000  8966.725\n",
              "6  2011-05-01  1338.3104761904761905  9027.200"
            ]
          },
          "metadata": {
            "tags": []
          }
        }
      ]
    },
    {
      "cell_type": "code",
      "metadata": {
        "colab": {
          "base_uri": "https://localhost:8080/",
          "height": 215
        },
        "id": "X5gVY7IdVarW",
        "outputId": "b2444403-8212-4e74-eb50-b7ca278e7667"
      },
      "source": [
        "# Merge SP500_10year_df with M2_df.\n",
        "\n",
        "SP500_10yr_M2 = pd.merge(SP500_10year_df, M2_df, how='left', on='SP500')\n",
        "\n",
        "print(SP500_10yr_M2.shape)\n",
        "display(SP500_10yr_M2.head())"
      ],
      "execution_count": null,
      "outputs": [
        {
          "output_type": "stream",
          "text": [
            "(119, 5)\n"
          ],
          "name": "stdout"
        },
        {
          "output_type": "display_data",
          "data": {
            "text/html": [
              "<div>\n",
              "<style scoped>\n",
              "    .dataframe tbody tr th:only-of-type {\n",
              "        vertical-align: middle;\n",
              "    }\n",
              "\n",
              "    .dataframe tbody tr th {\n",
              "        vertical-align: top;\n",
              "    }\n",
              "\n",
              "    .dataframe thead th {\n",
              "        text-align: right;\n",
              "    }\n",
              "</style>\n",
              "<table border=\"1\" class=\"dataframe\">\n",
              "  <thead>\n",
              "    <tr style=\"text-align: right;\">\n",
              "      <th></th>\n",
              "      <th>DATE_x</th>\n",
              "      <th>SP500</th>\n",
              "      <th>DGS10</th>\n",
              "      <th>DATE_y</th>\n",
              "      <th>M2</th>\n",
              "    </tr>\n",
              "  </thead>\n",
              "  <tbody>\n",
              "    <tr>\n",
              "      <th>0</th>\n",
              "      <td>2011-01-01</td>\n",
              "      <td>1282.6185000000000000</td>\n",
              "      <td>3.394000</td>\n",
              "      <td>2011-01-01</td>\n",
              "      <td>8821.480</td>\n",
              "    </tr>\n",
              "    <tr>\n",
              "      <th>1</th>\n",
              "      <td>2011-02-01</td>\n",
              "      <td>1321.1178947368421053</td>\n",
              "      <td>3.576316</td>\n",
              "      <td>2011-02-01</td>\n",
              "      <td>8871.375</td>\n",
              "    </tr>\n",
              "    <tr>\n",
              "      <th>2</th>\n",
              "      <td>2011-03-01</td>\n",
              "      <td>1304.4860869565217391</td>\n",
              "      <td>3.414348</td>\n",
              "      <td>2011-03-01</td>\n",
              "      <td>8913.025</td>\n",
              "    </tr>\n",
              "    <tr>\n",
              "      <th>3</th>\n",
              "      <td>2011-04-01</td>\n",
              "      <td>1331.5050000000000000</td>\n",
              "      <td>3.455000</td>\n",
              "      <td>2011-04-01</td>\n",
              "      <td>8966.725</td>\n",
              "    </tr>\n",
              "    <tr>\n",
              "      <th>4</th>\n",
              "      <td>2011-05-01</td>\n",
              "      <td>1338.3104761904761905</td>\n",
              "      <td>3.168571</td>\n",
              "      <td>2011-05-01</td>\n",
              "      <td>9027.200</td>\n",
              "    </tr>\n",
              "  </tbody>\n",
              "</table>\n",
              "</div>"
            ],
            "text/plain": [
              "       DATE_x                  SP500     DGS10      DATE_y        M2\n",
              "0  2011-01-01  1282.6185000000000000  3.394000  2011-01-01  8821.480\n",
              "1  2011-02-01  1321.1178947368421053  3.576316  2011-02-01  8871.375\n",
              "2  2011-03-01  1304.4860869565217391  3.414348  2011-03-01  8913.025\n",
              "3  2011-04-01  1331.5050000000000000  3.455000  2011-04-01  8966.725\n",
              "4  2011-05-01  1338.3104761904761905  3.168571  2011-05-01  9027.200"
            ]
          },
          "metadata": {
            "tags": []
          }
        }
      ]
    },
    {
      "cell_type": "code",
      "metadata": {
        "id": "dW7IFXgaVz5v"
      },
      "source": [
        "# Drop the duplicate 'DATE' column.\n",
        "\n",
        "SP500_10yr_M2.drop(['DATE_y'], axis=1, inplace=True)"
      ],
      "execution_count": null,
      "outputs": []
    },
    {
      "cell_type": "code",
      "metadata": {
        "colab": {
          "base_uri": "https://localhost:8080/",
          "height": 198
        },
        "id": "cH1BTELfWE3P",
        "outputId": "556901ef-aaeb-4eda-ffa2-be7ccf0c678e"
      },
      "source": [
        "SP500_10yr_M2.head()"
      ],
      "execution_count": null,
      "outputs": [
        {
          "output_type": "execute_result",
          "data": {
            "text/html": [
              "<div>\n",
              "<style scoped>\n",
              "    .dataframe tbody tr th:only-of-type {\n",
              "        vertical-align: middle;\n",
              "    }\n",
              "\n",
              "    .dataframe tbody tr th {\n",
              "        vertical-align: top;\n",
              "    }\n",
              "\n",
              "    .dataframe thead th {\n",
              "        text-align: right;\n",
              "    }\n",
              "</style>\n",
              "<table border=\"1\" class=\"dataframe\">\n",
              "  <thead>\n",
              "    <tr style=\"text-align: right;\">\n",
              "      <th></th>\n",
              "      <th>DATE_x</th>\n",
              "      <th>SP500</th>\n",
              "      <th>DGS10</th>\n",
              "      <th>M2</th>\n",
              "    </tr>\n",
              "  </thead>\n",
              "  <tbody>\n",
              "    <tr>\n",
              "      <th>0</th>\n",
              "      <td>2011-01-01</td>\n",
              "      <td>1282.6185000000000000</td>\n",
              "      <td>3.394000</td>\n",
              "      <td>8821.480</td>\n",
              "    </tr>\n",
              "    <tr>\n",
              "      <th>1</th>\n",
              "      <td>2011-02-01</td>\n",
              "      <td>1321.1178947368421053</td>\n",
              "      <td>3.576316</td>\n",
              "      <td>8871.375</td>\n",
              "    </tr>\n",
              "    <tr>\n",
              "      <th>2</th>\n",
              "      <td>2011-03-01</td>\n",
              "      <td>1304.4860869565217391</td>\n",
              "      <td>3.414348</td>\n",
              "      <td>8913.025</td>\n",
              "    </tr>\n",
              "    <tr>\n",
              "      <th>3</th>\n",
              "      <td>2011-04-01</td>\n",
              "      <td>1331.5050000000000000</td>\n",
              "      <td>3.455000</td>\n",
              "      <td>8966.725</td>\n",
              "    </tr>\n",
              "    <tr>\n",
              "      <th>4</th>\n",
              "      <td>2011-05-01</td>\n",
              "      <td>1338.3104761904761905</td>\n",
              "      <td>3.168571</td>\n",
              "      <td>9027.200</td>\n",
              "    </tr>\n",
              "  </tbody>\n",
              "</table>\n",
              "</div>"
            ],
            "text/plain": [
              "       DATE_x                  SP500     DGS10        M2\n",
              "0  2011-01-01  1282.6185000000000000  3.394000  8821.480\n",
              "1  2011-02-01  1321.1178947368421053  3.576316  8871.375\n",
              "2  2011-03-01  1304.4860869565217391  3.414348  8913.025\n",
              "3  2011-04-01  1331.5050000000000000  3.455000  8966.725\n",
              "4  2011-05-01  1338.3104761904761905  3.168571  9027.200"
            ]
          },
          "metadata": {
            "tags": []
          },
          "execution_count": 76
        }
      ]
    },
    {
      "cell_type": "code",
      "metadata": {
        "colab": {
          "base_uri": "https://localhost:8080/"
        },
        "id": "lddw5RGrWIQ-",
        "outputId": "e19f3d34-497a-4fe7-a631-57776804e205"
      },
      "source": [
        "# Rename 'DATE_x' column.\n",
        "\n",
        "SP500_10yr_M2.rename(columns = {'DATE_x': 'DATE'}, inplace=True)\n",
        "\n",
        "print(SP500_10yr_M2.columns)\n"
      ],
      "execution_count": null,
      "outputs": [
        {
          "output_type": "stream",
          "text": [
            "Index(['DATE', 'SP500', 'DGS10', 'M2'], dtype='object')\n"
          ],
          "name": "stdout"
        }
      ]
    },
    {
      "cell_type": "code",
      "metadata": {
        "colab": {
          "base_uri": "https://localhost:8080/",
          "height": 233
        },
        "id": "MI7YmdvCWbu2",
        "outputId": "20f14dfa-2a62-4bae-87b9-64e940d9cf34"
      },
      "source": [
        "# Read in quarterly corporate profit data.\n",
        "\n",
        "corp_profits_df = pd.read_csv('SP500_CorpProfits_Quarterly.csv')\n",
        "\n",
        "print(corp_profits_df.shape, \"\\n\")\n",
        "display(corp_profits_df.head())"
      ],
      "execution_count": null,
      "outputs": [
        {
          "output_type": "stream",
          "text": [
            "(40, 3) \n",
            "\n"
          ],
          "name": "stdout"
        },
        {
          "output_type": "display_data",
          "data": {
            "text/html": [
              "<div>\n",
              "<style scoped>\n",
              "    .dataframe tbody tr th:only-of-type {\n",
              "        vertical-align: middle;\n",
              "    }\n",
              "\n",
              "    .dataframe tbody tr th {\n",
              "        vertical-align: top;\n",
              "    }\n",
              "\n",
              "    .dataframe thead th {\n",
              "        text-align: right;\n",
              "    }\n",
              "</style>\n",
              "<table border=\"1\" class=\"dataframe\">\n",
              "  <thead>\n",
              "    <tr style=\"text-align: right;\">\n",
              "      <th></th>\n",
              "      <th>DATE</th>\n",
              "      <th>CP</th>\n",
              "      <th>CPATAX</th>\n",
              "    </tr>\n",
              "  </thead>\n",
              "  <tbody>\n",
              "    <tr>\n",
              "      <th>0</th>\n",
              "      <td>2010-10-01</td>\n",
              "      <td>1599.159</td>\n",
              "      <td>1537.504</td>\n",
              "    </tr>\n",
              "    <tr>\n",
              "      <th>1</th>\n",
              "      <td>2011-01-01</td>\n",
              "      <td>1464.223</td>\n",
              "      <td>1385.233</td>\n",
              "    </tr>\n",
              "    <tr>\n",
              "      <th>2</th>\n",
              "      <td>2011-04-01</td>\n",
              "      <td>1529.084</td>\n",
              "      <td>1506.637</td>\n",
              "    </tr>\n",
              "    <tr>\n",
              "      <th>3</th>\n",
              "      <td>2011-07-01</td>\n",
              "      <td>1539.465</td>\n",
              "      <td>1562.105</td>\n",
              "    </tr>\n",
              "    <tr>\n",
              "      <th>4</th>\n",
              "      <td>2011-10-01</td>\n",
              "      <td>1617.095</td>\n",
              "      <td>1662.068</td>\n",
              "    </tr>\n",
              "  </tbody>\n",
              "</table>\n",
              "</div>"
            ],
            "text/plain": [
              "         DATE        CP    CPATAX\n",
              "0  2010-10-01  1599.159  1537.504\n",
              "1  2011-01-01  1464.223  1385.233\n",
              "2  2011-04-01  1529.084  1506.637\n",
              "3  2011-07-01  1539.465  1562.105\n",
              "4  2011-10-01  1617.095  1662.068"
            ]
          },
          "metadata": {
            "tags": []
          }
        }
      ]
    },
    {
      "cell_type": "code",
      "metadata": {
        "id": "VkhAaVuCXBGq"
      },
      "source": [
        "# Drop pre-tax corporate profit column.  We are interested in after-tax profits.\n",
        "\n",
        "corp_profits_df.drop(['CP'], axis=1, inplace=True)"
      ],
      "execution_count": null,
      "outputs": []
    },
    {
      "cell_type": "code",
      "metadata": {
        "colab": {
          "base_uri": "https://localhost:8080/",
          "height": 198
        },
        "id": "7_wHK5_eXc5V",
        "outputId": "1910c22d-7ced-4359-a5eb-375ac522572f"
      },
      "source": [
        "corp_profits_df.head()\n"
      ],
      "execution_count": null,
      "outputs": [
        {
          "output_type": "execute_result",
          "data": {
            "text/html": [
              "<div>\n",
              "<style scoped>\n",
              "    .dataframe tbody tr th:only-of-type {\n",
              "        vertical-align: middle;\n",
              "    }\n",
              "\n",
              "    .dataframe tbody tr th {\n",
              "        vertical-align: top;\n",
              "    }\n",
              "\n",
              "    .dataframe thead th {\n",
              "        text-align: right;\n",
              "    }\n",
              "</style>\n",
              "<table border=\"1\" class=\"dataframe\">\n",
              "  <thead>\n",
              "    <tr style=\"text-align: right;\">\n",
              "      <th></th>\n",
              "      <th>DATE</th>\n",
              "      <th>CPATAX</th>\n",
              "    </tr>\n",
              "  </thead>\n",
              "  <tbody>\n",
              "    <tr>\n",
              "      <th>0</th>\n",
              "      <td>2010-10-01</td>\n",
              "      <td>1537.504</td>\n",
              "    </tr>\n",
              "    <tr>\n",
              "      <th>1</th>\n",
              "      <td>2011-01-01</td>\n",
              "      <td>1385.233</td>\n",
              "    </tr>\n",
              "    <tr>\n",
              "      <th>2</th>\n",
              "      <td>2011-04-01</td>\n",
              "      <td>1506.637</td>\n",
              "    </tr>\n",
              "    <tr>\n",
              "      <th>3</th>\n",
              "      <td>2011-07-01</td>\n",
              "      <td>1562.105</td>\n",
              "    </tr>\n",
              "    <tr>\n",
              "      <th>4</th>\n",
              "      <td>2011-10-01</td>\n",
              "      <td>1662.068</td>\n",
              "    </tr>\n",
              "  </tbody>\n",
              "</table>\n",
              "</div>"
            ],
            "text/plain": [
              "         DATE    CPATAX\n",
              "0  2010-10-01  1537.504\n",
              "1  2011-01-01  1385.233\n",
              "2  2011-04-01  1506.637\n",
              "3  2011-07-01  1562.105\n",
              "4  2011-10-01  1662.068"
            ]
          },
          "metadata": {
            "tags": []
          },
          "execution_count": 80
        }
      ]
    },
    {
      "cell_type": "code",
      "metadata": {
        "id": "hvrMLIREXe7h"
      },
      "source": [
        "# Merge SP500_10year_M2 with corp_profits_df.  Corporate profits are generated \n",
        "# quarterly, and are indicated less frequently than the data for the index,\n",
        "# for interest rates, or for the money supply.  The merge is completed with \n",
        "# how='inner' making quarterly data points what's available for all features. \n",
        "\n",
        "SP_10yr_M2_CP = pd.merge(SP500_10yr_M2, corp_profits_df, how='inner', \n",
        "                            on='DATE')\n"
      ],
      "execution_count": null,
      "outputs": []
    },
    {
      "cell_type": "code",
      "metadata": {
        "colab": {
          "base_uri": "https://localhost:8080/",
          "height": 198
        },
        "id": "Y5jW9ajaYJ7W",
        "outputId": "15394ada-39dd-421b-b48b-2eedaf1e46af"
      },
      "source": [
        "SP_10yr_M2_CP.head()"
      ],
      "execution_count": null,
      "outputs": [
        {
          "output_type": "execute_result",
          "data": {
            "text/html": [
              "<div>\n",
              "<style scoped>\n",
              "    .dataframe tbody tr th:only-of-type {\n",
              "        vertical-align: middle;\n",
              "    }\n",
              "\n",
              "    .dataframe tbody tr th {\n",
              "        vertical-align: top;\n",
              "    }\n",
              "\n",
              "    .dataframe thead th {\n",
              "        text-align: right;\n",
              "    }\n",
              "</style>\n",
              "<table border=\"1\" class=\"dataframe\">\n",
              "  <thead>\n",
              "    <tr style=\"text-align: right;\">\n",
              "      <th></th>\n",
              "      <th>DATE</th>\n",
              "      <th>SP500</th>\n",
              "      <th>DGS10</th>\n",
              "      <th>M2</th>\n",
              "      <th>CPATAX</th>\n",
              "    </tr>\n",
              "  </thead>\n",
              "  <tbody>\n",
              "    <tr>\n",
              "      <th>0</th>\n",
              "      <td>2011-01-01</td>\n",
              "      <td>1282.6185000000000000</td>\n",
              "      <td>3.3940</td>\n",
              "      <td>8821.480</td>\n",
              "      <td>1385.233</td>\n",
              "    </tr>\n",
              "    <tr>\n",
              "      <th>1</th>\n",
              "      <td>2011-04-01</td>\n",
              "      <td>1331.5050000000000000</td>\n",
              "      <td>3.4550</td>\n",
              "      <td>8966.725</td>\n",
              "      <td>1506.637</td>\n",
              "    </tr>\n",
              "    <tr>\n",
              "      <th>2</th>\n",
              "      <td>2011-07-01</td>\n",
              "      <td>1325.1845000000000000</td>\n",
              "      <td>3.0030</td>\n",
              "      <td>9261.100</td>\n",
              "      <td>1562.105</td>\n",
              "    </tr>\n",
              "    <tr>\n",
              "      <th>3</th>\n",
              "      <td>2011-10-01</td>\n",
              "      <td>1207.2161904761904762</td>\n",
              "      <td>2.1520</td>\n",
              "      <td>9570.400</td>\n",
              "      <td>1662.068</td>\n",
              "    </tr>\n",
              "    <tr>\n",
              "      <th>4</th>\n",
              "      <td>2012-01-01</td>\n",
              "      <td>1300.5775000000000000</td>\n",
              "      <td>1.9665</td>\n",
              "      <td>9727.720</td>\n",
              "      <td>1705.692</td>\n",
              "    </tr>\n",
              "  </tbody>\n",
              "</table>\n",
              "</div>"
            ],
            "text/plain": [
              "         DATE                  SP500   DGS10        M2    CPATAX\n",
              "0  2011-01-01  1282.6185000000000000  3.3940  8821.480  1385.233\n",
              "1  2011-04-01  1331.5050000000000000  3.4550  8966.725  1506.637\n",
              "2  2011-07-01  1325.1845000000000000  3.0030  9261.100  1562.105\n",
              "3  2011-10-01  1207.2161904761904762  2.1520  9570.400  1662.068\n",
              "4  2012-01-01  1300.5775000000000000  1.9665  9727.720  1705.692"
            ]
          },
          "metadata": {
            "tags": []
          },
          "execution_count": 82
        }
      ]
    },
    {
      "cell_type": "code",
      "metadata": {
        "colab": {
          "base_uri": "https://localhost:8080/"
        },
        "id": "IEM_MoD_YN_2",
        "outputId": "27d75645-beec-4ddd-d44f-cfa484b5bfd5"
      },
      "source": [
        "# Examine the data types for the new dataframe.\n",
        "\n",
        "print(SP_10yr_M2_CP.dtypes, \"\\n\")\n",
        "print(type(SP_10yr_M2_CP.loc[0, 'DATE']), end=' ')\n",
        "print(type(SP_10yr_M2_CP.loc[0, 'SP500']))"
      ],
      "execution_count": null,
      "outputs": [
        {
          "output_type": "stream",
          "text": [
            "DATE       object\n",
            "SP500      object\n",
            "DGS10     float64\n",
            "M2        float64\n",
            "CPATAX    float64\n",
            "dtype: object \n",
            "\n",
            "<class 'str'> <class 'str'>\n"
          ],
          "name": "stdout"
        }
      ]
    },
    {
      "cell_type": "code",
      "metadata": {
        "id": "9xVrMTkPYQ6O"
      },
      "source": [
        "# Transform 'DATE' (string object) to a datetime object.\n",
        "\n",
        "SP_10yr_M2_CP['DATE'] = pd.to_datetime(SP_10yr_M2_CP['DATE'], infer_datetime_format=True)"
      ],
      "execution_count": null,
      "outputs": []
    },
    {
      "cell_type": "code",
      "metadata": {
        "colab": {
          "base_uri": "https://localhost:8080/"
        },
        "id": "KKhcm3lXYo6Y",
        "outputId": "426fc02f-318d-451c-f5e8-4951147d7a92"
      },
      "source": [
        "# Verify 'DATE' is nw a datetime object.\n",
        "\n",
        "print(SP_10yr_M2_CP.dtypes)"
      ],
      "execution_count": null,
      "outputs": [
        {
          "output_type": "stream",
          "text": [
            "DATE      datetime64[ns]\n",
            "SP500             object\n",
            "DGS10            float64\n",
            "M2               float64\n",
            "CPATAX           float64\n",
            "dtype: object\n"
          ],
          "name": "stdout"
        }
      ]
    },
    {
      "cell_type": "code",
      "metadata": {
        "id": "J2DrhesMYu61"
      },
      "source": [
        "\n",
        "# Change 'SP500' instances from strings to floats.\n",
        "\n",
        "SP_10yr_M2_CP['SP500'] = SP_10yr_M2_CP['SP500'].apply(lambda x: float(x))"
      ],
      "execution_count": null,
      "outputs": []
    },
    {
      "cell_type": "code",
      "metadata": {
        "colab": {
          "base_uri": "https://localhost:8080/",
          "height": 354
        },
        "id": "FkhIDDbTY8Zw",
        "outputId": "0352fec8-7170-4695-ddbd-7179e6e0fb6f"
      },
      "source": [
        "# Verify changes.\n",
        "\n",
        "print(SP_10yr_M2_CP.dtypes, \"\\n\")\n",
        "print(SP_10yr_M2_CP.shape, \"\\n\")\n",
        "display(SP_10yr_M2_CP.head())"
      ],
      "execution_count": null,
      "outputs": [
        {
          "output_type": "stream",
          "text": [
            "DATE      datetime64[ns]\n",
            "SP500            float64\n",
            "DGS10            float64\n",
            "M2               float64\n",
            "CPATAX           float64\n",
            "dtype: object \n",
            "\n",
            "(39, 5) \n",
            "\n"
          ],
          "name": "stdout"
        },
        {
          "output_type": "display_data",
          "data": {
            "text/html": [
              "<div>\n",
              "<style scoped>\n",
              "    .dataframe tbody tr th:only-of-type {\n",
              "        vertical-align: middle;\n",
              "    }\n",
              "\n",
              "    .dataframe tbody tr th {\n",
              "        vertical-align: top;\n",
              "    }\n",
              "\n",
              "    .dataframe thead th {\n",
              "        text-align: right;\n",
              "    }\n",
              "</style>\n",
              "<table border=\"1\" class=\"dataframe\">\n",
              "  <thead>\n",
              "    <tr style=\"text-align: right;\">\n",
              "      <th></th>\n",
              "      <th>DATE</th>\n",
              "      <th>SP500</th>\n",
              "      <th>DGS10</th>\n",
              "      <th>M2</th>\n",
              "      <th>CPATAX</th>\n",
              "    </tr>\n",
              "  </thead>\n",
              "  <tbody>\n",
              "    <tr>\n",
              "      <th>0</th>\n",
              "      <td>2011-01-01</td>\n",
              "      <td>1282.61850</td>\n",
              "      <td>3.3940</td>\n",
              "      <td>8821.480</td>\n",
              "      <td>1385.233</td>\n",
              "    </tr>\n",
              "    <tr>\n",
              "      <th>1</th>\n",
              "      <td>2011-04-01</td>\n",
              "      <td>1331.50500</td>\n",
              "      <td>3.4550</td>\n",
              "      <td>8966.725</td>\n",
              "      <td>1506.637</td>\n",
              "    </tr>\n",
              "    <tr>\n",
              "      <th>2</th>\n",
              "      <td>2011-07-01</td>\n",
              "      <td>1325.18450</td>\n",
              "      <td>3.0030</td>\n",
              "      <td>9261.100</td>\n",
              "      <td>1562.105</td>\n",
              "    </tr>\n",
              "    <tr>\n",
              "      <th>3</th>\n",
              "      <td>2011-10-01</td>\n",
              "      <td>1207.21619</td>\n",
              "      <td>2.1520</td>\n",
              "      <td>9570.400</td>\n",
              "      <td>1662.068</td>\n",
              "    </tr>\n",
              "    <tr>\n",
              "      <th>4</th>\n",
              "      <td>2012-01-01</td>\n",
              "      <td>1300.57750</td>\n",
              "      <td>1.9665</td>\n",
              "      <td>9727.720</td>\n",
              "      <td>1705.692</td>\n",
              "    </tr>\n",
              "  </tbody>\n",
              "</table>\n",
              "</div>"
            ],
            "text/plain": [
              "        DATE       SP500   DGS10        M2    CPATAX\n",
              "0 2011-01-01  1282.61850  3.3940  8821.480  1385.233\n",
              "1 2011-04-01  1331.50500  3.4550  8966.725  1506.637\n",
              "2 2011-07-01  1325.18450  3.0030  9261.100  1562.105\n",
              "3 2011-10-01  1207.21619  2.1520  9570.400  1662.068\n",
              "4 2012-01-01  1300.57750  1.9665  9727.720  1705.692"
            ]
          },
          "metadata": {
            "tags": []
          }
        }
      ]
    },
    {
      "cell_type": "code",
      "metadata": {
        "id": "q_3JVlDJZOmI"
      },
      "source": [
        "# Truncate decimals to 1000ths.\n",
        "\n",
        "cols = ['SP500', 'DGS10']\n",
        "\n",
        "for col in cols:\n",
        "    SP_10yr_M2_CP[col] = SP_10yr_M2_CP[col].apply(lambda x: round(x, 3))"
      ],
      "execution_count": null,
      "outputs": []
    },
    {
      "cell_type": "code",
      "metadata": {
        "colab": {
          "base_uri": "https://localhost:8080/",
          "height": 198
        },
        "id": "vH3joUeMZkhJ",
        "outputId": "56d29444-5328-44d0-93eb-613754309a41"
      },
      "source": [
        "# Verify changes.\n",
        "\n",
        "SP_10yr_M2_CP.head()"
      ],
      "execution_count": null,
      "outputs": [
        {
          "output_type": "execute_result",
          "data": {
            "text/html": [
              "<div>\n",
              "<style scoped>\n",
              "    .dataframe tbody tr th:only-of-type {\n",
              "        vertical-align: middle;\n",
              "    }\n",
              "\n",
              "    .dataframe tbody tr th {\n",
              "        vertical-align: top;\n",
              "    }\n",
              "\n",
              "    .dataframe thead th {\n",
              "        text-align: right;\n",
              "    }\n",
              "</style>\n",
              "<table border=\"1\" class=\"dataframe\">\n",
              "  <thead>\n",
              "    <tr style=\"text-align: right;\">\n",
              "      <th></th>\n",
              "      <th>DATE</th>\n",
              "      <th>SP500</th>\n",
              "      <th>DGS10</th>\n",
              "      <th>M2</th>\n",
              "      <th>CPATAX</th>\n",
              "    </tr>\n",
              "  </thead>\n",
              "  <tbody>\n",
              "    <tr>\n",
              "      <th>0</th>\n",
              "      <td>2011-01-01</td>\n",
              "      <td>1282.619</td>\n",
              "      <td>3.394</td>\n",
              "      <td>8821.480</td>\n",
              "      <td>1385.233</td>\n",
              "    </tr>\n",
              "    <tr>\n",
              "      <th>1</th>\n",
              "      <td>2011-04-01</td>\n",
              "      <td>1331.505</td>\n",
              "      <td>3.455</td>\n",
              "      <td>8966.725</td>\n",
              "      <td>1506.637</td>\n",
              "    </tr>\n",
              "    <tr>\n",
              "      <th>2</th>\n",
              "      <td>2011-07-01</td>\n",
              "      <td>1325.185</td>\n",
              "      <td>3.003</td>\n",
              "      <td>9261.100</td>\n",
              "      <td>1562.105</td>\n",
              "    </tr>\n",
              "    <tr>\n",
              "      <th>3</th>\n",
              "      <td>2011-10-01</td>\n",
              "      <td>1207.216</td>\n",
              "      <td>2.152</td>\n",
              "      <td>9570.400</td>\n",
              "      <td>1662.068</td>\n",
              "    </tr>\n",
              "    <tr>\n",
              "      <th>4</th>\n",
              "      <td>2012-01-01</td>\n",
              "      <td>1300.578</td>\n",
              "      <td>1.966</td>\n",
              "      <td>9727.720</td>\n",
              "      <td>1705.692</td>\n",
              "    </tr>\n",
              "  </tbody>\n",
              "</table>\n",
              "</div>"
            ],
            "text/plain": [
              "        DATE     SP500  DGS10        M2    CPATAX\n",
              "0 2011-01-01  1282.619  3.394  8821.480  1385.233\n",
              "1 2011-04-01  1331.505  3.455  8966.725  1506.637\n",
              "2 2011-07-01  1325.185  3.003  9261.100  1562.105\n",
              "3 2011-10-01  1207.216  2.152  9570.400  1662.068\n",
              "4 2012-01-01  1300.578  1.966  9727.720  1705.692"
            ]
          },
          "metadata": {
            "tags": []
          },
          "execution_count": 89
        }
      ]
    },
    {
      "cell_type": "markdown",
      "metadata": {
        "id": "-fkkayr7ZvCb"
      },
      "source": [
        "###*Next steps:*\n",
        "\n",
        "Visualize the data in relation to the S&P 500 index."
      ]
    },
    {
      "cell_type": "code",
      "metadata": {
        "colab": {
          "base_uri": "https://localhost:8080/",
          "height": 714
        },
        "id": "sM5AfdZ14APr",
        "outputId": "4e73cff7-fbfc-42d5-cec7-dfcecf1c0b8a"
      },
      "source": [
        "# Quick graph of the 4 variables (1 dependent, 3 independent)\n",
        "\n",
        "fig, ax = plt.subplots(2, 2, figsize=(12, 12))\n",
        "\n",
        "ax[0][0].plot(SP_10yr_M2_CP['DATE'], SP_10yr_M2_CP['SP500'], 'black')\n",
        "ax[0][1].plot(SP_10yr_M2_CP['DATE'], SP_10yr_M2_CP['CPATAX'], 'purple')\n",
        "ax[1][0].plot(SP_10yr_M2_CP['DATE'], SP_10yr_M2_CP['M2'], 'maroon')\n",
        "ax[1][1].plot(SP_10yr_M2_CP['DATE'], SP_10yr_M2_CP['DGS10'], 'blue')\n",
        "\n",
        "ax[0][0].set_xlabel('Reporting Period')\n",
        "ax[0][0].set_ylabel('S&P 500')\n",
        "\n",
        "ax[0][1].set_xlabel('Reporting Period')\n",
        "ax[0][1].set_ylabel('Corporate Profits', color='purple')\n",
        "ax[0][1].tick_params(axis='y', labelcolor='purple')\n",
        "\n",
        "ax[1][0].set_xlabel('Reporting Period')\n",
        "ax[1][0].set_ylabel('Money Supply', color='maroon')\n",
        "ax[1][0].tick_params(axis='y', labelcolor='maroon')\n",
        "\n",
        "ax[1][1].set_xlabel('Reporting Period')\n",
        "ax[1][1].set_ylabel('Risk-Free Rate', color='blue')\n",
        "ax[1][1].tick_params(axis='y', labelcolor='blue')\n",
        "\n",
        "plt.show()"
      ],
      "execution_count": null,
      "outputs": [
        {
          "output_type": "display_data",
          "data": {
            "image/png": "[encoded data removed]",
            "text/plain": [
              "<Figure size 864x864 with 4 Axes>"
            ]
          },
          "metadata": {
            "tags": [],
            "needs_background": "light"
          }
        }
      ]
    },
    {
      "cell_type": "code",
      "metadata": {
        "colab": {
          "base_uri": "https://localhost:8080/",
          "height": 615
        },
        "id": "rzqLGhq_ZxES",
        "outputId": "50430f12-12ce-4d76-d770-6dbe204f6a81"
      },
      "source": [
        "# SP500 versus After-tax Corporate Profits.\n",
        "\n",
        "import matplotlib.patheffects as path_effects\n",
        "\n",
        "fig, ax = plt.subplots(figsize=(9, 9))\n",
        "\n",
        "ax.set_facecolor('xkcd:pale grey')\n",
        "ax.set_title('S&P 500 Index Level | After-Tax Corporate Profits',\n",
        "             fontsize=22, pad=24)\n",
        "\n",
        "ax.set_xlabel('Reporting Period', fontsize=12, labelpad=25)\n",
        "\n",
        "ax.plot(SP_10yr_M2_CP['DATE'], SP_10yr_M2_CP['SP500'], color='black',\n",
        "        path_effects=[path_effects.SimpleLineShadow(), path_effects.Normal()])\n",
        "ax.set_ylabel('S&P 500', verticalalignment='bottom', fontsize=16)\n",
        "ax.tick_params(axis='y')\n",
        "\n",
        "ax2 = ax.twinx()\n",
        "\n",
        "ax2.plot(SP_10yr_M2_CP['DATE'], SP_10yr_M2_CP['CPATAX'], color='purple',\n",
        "         path_effects=[path_effects.SimpleLineShadow(), path_effects.Normal()])\n",
        "ax2.set_ylabel('Corporate Profits', color='purple', verticalalignment='top', \n",
        "               fontsize=16, labelpad=15)\n",
        "ax2.tick_params(axis='y', labelcolor='purple')\n",
        "\n",
        "plt.show()"
      ],
      "execution_count": null,
      "outputs": [
        {
          "output_type": "display_data",
          "data": {
            "image/png": "[encoded data removed]",
            "text/plain": [
              "<Figure size 648x648 with 2 Axes>"
            ]
          },
          "metadata": {
            "tags": [],
            "needs_background": "light"
          }
        }
      ]
    },
    {
      "cell_type": "code",
      "metadata": {
        "colab": {
          "base_uri": "https://localhost:8080/",
          "height": 615
        },
        "id": "BC0j4u98cBXy",
        "outputId": "7eb1c6fd-e6ab-4f93-8ff2-20ca7351f8fa"
      },
      "source": [
        "# SP500 versus M2 money supply.\n",
        "\n",
        "fig, ax = plt.subplots(figsize=(9, 9))\n",
        "\n",
        "ax.set_title('S&P 500 Index Level | M2 Money Supply', fontsize=22, pad=24)\n",
        "ax.set_facecolor('xkcd:pale grey')\n",
        "\n",
        "ax.set_xlabel('Reporting Period', fontsize=12, labelpad=25)\n",
        "\n",
        "ax.plot(SP_10yr_M2_CP['DATE'], SP_10yr_M2_CP['SP500'], color='black',  \n",
        "        path_effects=[path_effects.SimpleLineShadow(), path_effects.Normal()])\n",
        "ax.set_ylabel('S&P 500', verticalalignment='bottom', fontsize=16)\n",
        "ax.tick_params(axis='y')\n",
        "\n",
        "ax2 = ax.twinx()\n",
        "\n",
        "ax2.plot(SP_10yr_M2_CP['DATE'], SP_10yr_M2_CP['M2'], color='maroon', \n",
        "         path_effects=[path_effects.SimpleLineShadow(), path_effects.Normal()])\n",
        "ax2.set_ylabel('M2 Money Supply', color='maroon', verticalalignment='top', \n",
        "               fontsize=16, labelpad=15)\n",
        "ax2.tick_params(axis='y', labelcolor='maroon')\n",
        "\n",
        "ax.axvline(x=SP_10yr_M2_CP.loc[37, 'DATE'], linewidth=22, color=(0,0,0,0.1))\n",
        "\n",
        "plt.show()"
      ],
      "execution_count": null,
      "outputs": [
        {
          "output_type": "display_data",
          "data": {
            "image/png": "[encoded data removed]",
            "text/plain": [
              "<Figure size 648x648 with 2 Axes>"
            ]
          },
          "metadata": {
            "tags": [],
            "needs_background": "light"
          }
        }
      ]
    },
    {
      "cell_type": "code",
      "metadata": {
        "colab": {
          "base_uri": "https://localhost:8080/",
          "height": 615
        },
        "id": "jw-v4FANc2W0",
        "outputId": "d17ac93b-4fa7-466e-a359-17e741c2ab28"
      },
      "source": [
        "# SP500 versus 10-year Treasury Yields.\n",
        "\n",
        "fig, ax = plt.subplots(figsize=(9, 9))\n",
        "\n",
        "# fig.set_facecolor('xkcd:baby blue')\n",
        "\n",
        "ax.set_title('S&P500 Index Level | 10-year Treasury Yields', fontsize=22, pad=24)\n",
        "ax.set_facecolor('xkcd:pale grey')\n",
        "ax.set_xlabel('Reporting Period', fontsize=12, labelpad=25)\n",
        "\n",
        "ax.plot(SP_10yr_M2_CP['DATE'], SP_10yr_M2_CP['SP500'], color='black', \n",
        "        path_effects=[path_effects.SimpleLineShadow(), path_effects.Normal()])\n",
        "ax.set_ylabel('S&P 500', verticalalignment='bottom', fontsize=16)\n",
        "ax.tick_params(axis='y')\n",
        "\n",
        "ax2 = ax.twinx()\n",
        "\n",
        "ax2.plot(SP_10yr_M2_CP['DATE'], SP_10yr_M2_CP['DGS10'], color='blue', \n",
        "         path_effects=[path_effects.SimpleLineShadow(), path_effects.Normal()])\n",
        "ax2.set_ylabel('10-year Treasury', color='blue', verticalalignment='top',\n",
        "               fontsize=16, labelpad=15)\n",
        "ax2.tick_params(axis='y', labelcolor='blue')\n",
        "\n",
        "ax.axvline(x=SP_10yr_M2_CP.loc[9, 'DATE'], linewidth=80, color=(0,0,0,0.05))\n",
        "ax.axvline(x=SP_10yr_M2_CP.loc[26, 'DATE'], linewidth=50, color=(0,0,0,0.05))\n",
        "\n",
        "plt.show()"
      ],
      "execution_count": null,
      "outputs": [
        {
          "output_type": "display_data",
          "data": {
            "image/png": "[encoded data removed]",
            "text/plain": [
              "<Figure size 648x648 with 2 Axes>"
            ]
          },
          "metadata": {
            "tags": [],
            "needs_background": "light"
          }
        }
      ]
    },
    {
      "cell_type": "code",
      "metadata": {
        "colab": {
          "base_uri": "https://localhost:8080/",
          "height": 726
        },
        "id": "yH_F_KOpc9be",
        "outputId": "983833f0-5cff-4000-d636-8822b6980493"
      },
      "source": [
        "# Pair plotting the features to further visually explore the data.\n",
        "\n",
        "# SP500 levels appear related to Corporate Profits and the Money Supply.  There\n",
        "# does not appear to be a strong relationship between the SP500 index level and\n",
        "# the risk-free rate. \n",
        "# There also appears to possibly be a relationship betwen corporate profits and M2. \n",
        "\n",
        "to_plot = SP_10yr_M2_CP[['SP500', 'CPATAX', 'M2', 'DGS10']]\n",
        "\n",
        "sns.pairplot(to_plot)\n",
        "plt.show()\n"
      ],
      "execution_count": null,
      "outputs": [
        {
          "output_type": "display_data",
          "data": {
            "image/png": "[encoded data removed]",
            "text/plain": [
              "<Figure size 720x720 with 20 Axes>"
            ]
          },
          "metadata": {
            "tags": [],
            "needs_background": "light"
          }
        }
      ]
    },
    {
      "cell_type": "markdown",
      "metadata": {
        "id": "NM9Jb-bBdn6Y"
      },
      "source": [
        "###*Next, let's look at the correlation coefficients and examine the strength between the S&P 500 with:*\n",
        "- Corporate Profits\n",
        "- Money Supply\n",
        "- Risk-Free Rate\n",
        "\n"
      ]
    },
    {
      "cell_type": "code",
      "metadata": {
        "colab": {
          "base_uri": "https://localhost:8080/"
        },
        "id": "QwQ5FACndrTd",
        "outputId": "61645bd2-74c4-4753-d6a5-0f51390aa301"
      },
      "source": [
        "# SP500 levels and corporate profits appear moderately to strongly correlated.\n",
        "\n",
        "np.corrcoef(SP_10yr_M2_CP['CPATAX'], SP_10yr_M2_CP['SP500'])"
      ],
      "execution_count": null,
      "outputs": [
        {
          "output_type": "execute_result",
          "data": {
            "text/plain": [
              "array([[1.        , 0.79121386],\n",
              "       [0.79121386, 1.        ]])"
            ]
          },
          "metadata": {
            "tags": []
          },
          "execution_count": 95
        }
      ]
    },
    {
      "cell_type": "code",
      "metadata": {
        "colab": {
          "base_uri": "https://localhost:8080/"
        },
        "id": "wqrieZEPdugE",
        "outputId": "ae917c26-1c36-4ed9-9e58-f9f18471f440"
      },
      "source": [
        "# SP500 levels and the money supply appear very strongly correlated.\n",
        "\n",
        "np.corrcoef(SP_10yr_M2_CP['M2'], SP_10yr_M2_CP['SP500'])"
      ],
      "execution_count": null,
      "outputs": [
        {
          "output_type": "execute_result",
          "data": {
            "text/plain": [
              "array([[1.        , 0.95396111],\n",
              "       [0.95396111, 1.        ]])"
            ]
          },
          "metadata": {
            "tags": []
          },
          "execution_count": 96
        }
      ]
    },
    {
      "cell_type": "code",
      "metadata": {
        "colab": {
          "base_uri": "https://localhost:8080/"
        },
        "id": "1v9FRZy-d4sw",
        "outputId": "d81eb4c8-4b41-4fc3-971a-6a3c9f8cc037"
      },
      "source": [
        "# SP500 levels and the risk-free rate do not appear strongly negatively correlated\n",
        "\n",
        "np.corrcoef(SP_10yr_M2_CP['DGS10'],SP_10yr_M2_CP['SP500'])"
      ],
      "execution_count": null,
      "outputs": [
        {
          "output_type": "execute_result",
          "data": {
            "text/plain": [
              "array([[ 1.        , -0.21826718],\n",
              "       [-0.21826718,  1.        ]])"
            ]
          },
          "metadata": {
            "tags": []
          },
          "execution_count": 97
        }
      ]
    },
    {
      "cell_type": "code",
      "metadata": {
        "colab": {
          "base_uri": "https://localhost:8080/"
        },
        "id": "iBA-UdEkeOce",
        "outputId": "e9378e78-78de-4c4e-ae30-e0039115d75c"
      },
      "source": [
        "# Lets start our modeling looking at the features versus the SP500.\n",
        "\n",
        "# We are able to reject the null hypothesis at the 0.05 alpha level, and \n",
        "# indicate that there is a relationship between after-tax corporate earnings \n",
        "# and the S&P 500 index level. \n",
        "\n",
        "model_earnings = ols('SP500 ~ CPATAX', data=SP_10yr_M2_CP).fit()\n",
        "\n",
        "print(model_earnings.summary())"
      ],
      "execution_count": null,
      "outputs": [
        {
          "output_type": "stream",
          "text": [
            "                            OLS Regression Results                            \n",
            "==============================================================================\n",
            "Dep. Variable:                  SP500   R-squared:                       0.626\n",
            "Model:                            OLS   Adj. R-squared:                  0.616\n",
            "Method:                 Least Squares   F-statistic:                     61.94\n",
            "Date:                Fri, 08 Jan 2021   Prob (F-statistic):           2.03e-09\n",
            "Time:                        01:34:01   Log-Likelihood:                -285.15\n",
            "No. Observations:                  39   AIC:                             574.3\n",
            "Df Residuals:                      37   BIC:                             577.6\n",
            "Df Model:                           1                                         \n",
            "Covariance Type:            nonrobust                                         \n",
            "==============================================================================\n",
            "                 coef    std err          t      P>|t|      [0.025      0.975]\n",
            "------------------------------------------------------------------------------\n",
            "Intercept  -3256.0356    685.434     -4.750      0.000   -4644.858   -1867.213\n",
            "CPATAX         3.0950      0.393      7.870      0.000       2.298       3.892\n",
            "==============================================================================\n",
            "Omnibus:                        9.491   Durbin-Watson:                   0.596\n",
            "Prob(Omnibus):                  0.009   Jarque-Bera (JB):                9.936\n",
            "Skew:                           0.785   Prob(JB):                      0.00696\n",
            "Kurtosis:                       4.911   Cond. No.                     2.01e+04\n",
            "==============================================================================\n",
            "\n",
            "Warnings:\n",
            "[1] Standard Errors assume that the covariance matrix of the errors is correctly specified.\n",
            "[2] The condition number is large, 2.01e+04. This might indicate that there are\n",
            "strong multicollinearity or other numerical problems.\n"
          ],
          "name": "stdout"
        }
      ]
    },
    {
      "cell_type": "code",
      "metadata": {
        "colab": {
          "base_uri": "https://localhost:8080/"
        },
        "id": "SV49nFpRefbm",
        "outputId": "b87716b2-66b0-48c4-b967-0e7ccf6f5148"
      },
      "source": [
        "# We are able to reject the null hypothesis at the 0.05 alpha level, refute\n",
        "# the null hypothesis, and indicate that there is a relationship between \n",
        "# the M2 money supply and the S&P 500 index level.\n",
        "\n",
        "model_M2 = ols('SP500 ~ M2', data=SP_10yr_M2_CP).fit()\n",
        "\n",
        "print(model_M2.summary())"
      ],
      "execution_count": null,
      "outputs": [
        {
          "output_type": "stream",
          "text": [
            "                            OLS Regression Results                            \n",
            "==============================================================================\n",
            "Dep. Variable:                  SP500   R-squared:                       0.910\n",
            "Model:                            OLS   Adj. R-squared:                  0.908\n",
            "Method:                 Least Squares   F-statistic:                     374.3\n",
            "Date:                Fri, 08 Jan 2021   Prob (F-statistic):           6.08e-21\n",
            "Time:                        01:34:01   Log-Likelihood:                -257.37\n",
            "No. Observations:                  39   AIC:                             518.7\n",
            "Df Residuals:                      37   BIC:                             522.1\n",
            "Df Model:                           1                                         \n",
            "Covariance Type:            nonrobust                                         \n",
            "==============================================================================\n",
            "                 coef    std err          t      P>|t|      [0.025      0.975]\n",
            "------------------------------------------------------------------------------\n",
            "Intercept  -1073.3320    167.514     -6.407      0.000   -1412.747    -733.917\n",
            "M2             0.2575      0.013     19.347      0.000       0.230       0.284\n",
            "==============================================================================\n",
            "Omnibus:                        5.435   Durbin-Watson:                   1.032\n",
            "Prob(Omnibus):                  0.066   Jarque-Bera (JB):                4.246\n",
            "Skew:                          -0.564   Prob(JB):                        0.120\n",
            "Kurtosis:                       4.157   Cond. No.                     7.22e+04\n",
            "==============================================================================\n",
            "\n",
            "Warnings:\n",
            "[1] Standard Errors assume that the covariance matrix of the errors is correctly specified.\n",
            "[2] The condition number is large, 7.22e+04. This might indicate that there are\n",
            "strong multicollinearity or other numerical problems.\n"
          ],
          "name": "stdout"
        }
      ]
    },
    {
      "cell_type": "code",
      "metadata": {
        "colab": {
          "base_uri": "https://localhost:8080/"
        },
        "id": "OTt8Mk1BelK0",
        "outputId": "9e00eab4-9e03-43fe-de4d-dcefe668f5eb"
      },
      "source": [
        "# The risk-free rate, by itself, does not appear statistically significant in \n",
        "# explaining variations in the SP500 index levels.\n",
        "\n",
        "model_10year = ols('SP500 ~ DGS10', data=SP_10yr_M2_CP).fit()\n",
        "\n",
        "print(model_10year.summary())"
      ],
      "execution_count": null,
      "outputs": [
        {
          "output_type": "stream",
          "text": [
            "                            OLS Regression Results                            \n",
            "==============================================================================\n",
            "Dep. Variable:                  SP500   R-squared:                       0.048\n",
            "Model:                            OLS   Adj. R-squared:                  0.022\n",
            "Method:                 Least Squares   F-statistic:                     1.851\n",
            "Date:                Fri, 08 Jan 2021   Prob (F-statistic):              0.182\n",
            "Time:                        01:34:01   Log-Likelihood:                -303.38\n",
            "No. Observations:                  39   AIC:                             610.8\n",
            "Df Residuals:                      37   BIC:                             614.1\n",
            "Df Model:                           1                                         \n",
            "Covariance Type:            nonrobust                                         \n",
            "==============================================================================\n",
            "                 coef    std err          t      P>|t|      [0.025      0.975]\n",
            "------------------------------------------------------------------------------\n",
            "Intercept   2589.1003    359.183      7.208      0.000    1861.326    3316.875\n",
            "DGS10       -211.4857    155.450     -1.360      0.182    -526.458     103.487\n",
            "==============================================================================\n",
            "Omnibus:                        6.264   Durbin-Watson:                   0.117\n",
            "Prob(Omnibus):                  0.044   Jarque-Bera (JB):                2.201\n",
            "Skew:                           0.144   Prob(JB):                        0.333\n",
            "Kurtosis:                       1.873   Cond. No.                         10.3\n",
            "==============================================================================\n",
            "\n",
            "Warnings:\n",
            "[1] Standard Errors assume that the covariance matrix of the errors is correctly specified.\n"
          ],
          "name": "stdout"
        }
      ]
    },
    {
      "cell_type": "markdown",
      "metadata": {
        "id": "GKUAjq1ti9up"
      },
      "source": [
        "###*Let's use the model_M2 and add corporate earnings to see it's effects.*\n",
        "\n",
        "Ho: $\\beta_2$ = 0\n",
        "\n",
        "Ha: $\\beta_2 \\neq$ 0\n",
        "\n",
        "The Null Hypthothesis states that after taking into account the effects of the M2 money supply, there is no relationship betwteen after-tax coroprate earnings and the SP500 Index level. "
      ]
    },
    {
      "cell_type": "code",
      "metadata": {
        "colab": {
          "base_uri": "https://localhost:8080/"
        },
        "id": "FkG3Yn3-es5Y",
        "outputId": "70dc07a1-6135-4d11-f79b-4e5b883fed0e"
      },
      "source": [
        "# Let's use the model_M2 and add corporate earnings to see it's effects.\n",
        "\n",
        "# Adjusted R-squared improves to about 93%.\n",
        "# After accounting for differences in the money supply, corporate profits appear \n",
        "# to be significantly associated with SP500 Index levels. \n",
        "\n",
        "model_M2_CP = ols('SP500 ~ M2 + CPATAX', data=SP_10yr_M2_CP).fit()\n",
        "\n",
        "print(model_M2_CP.summary())"
      ],
      "execution_count": null,
      "outputs": [
        {
          "output_type": "stream",
          "text": [
            "                            OLS Regression Results                            \n",
            "==============================================================================\n",
            "Dep. Variable:                  SP500   R-squared:                       0.933\n",
            "Model:                            OLS   Adj. R-squared:                  0.929\n",
            "Method:                 Least Squares   F-statistic:                     251.2\n",
            "Date:                Fri, 08 Jan 2021   Prob (F-statistic):           7.16e-22\n",
            "Time:                        01:34:01   Log-Likelihood:                -251.58\n",
            "No. Observations:                  39   AIC:                             509.2\n",
            "Df Residuals:                      36   BIC:                             514.2\n",
            "Df Model:                           2                                         \n",
            "Covariance Type:            nonrobust                                         \n",
            "==============================================================================\n",
            "                 coef    std err          t      P>|t|      [0.025      0.975]\n",
            "------------------------------------------------------------------------------\n",
            "Intercept  -2032.0111    308.889     -6.578      0.000   -2658.467   -1405.555\n",
            "M2             0.2151      0.017     12.857      0.000       0.181       0.249\n",
            "CPATAX         0.8546      0.242      3.525      0.001       0.363       1.346\n",
            "==============================================================================\n",
            "Omnibus:                        4.901   Durbin-Watson:                   1.209\n",
            "Prob(Omnibus):                  0.086   Jarque-Bera (JB):                5.487\n",
            "Skew:                           0.097   Prob(JB):                       0.0643\n",
            "Kurtosis:                       4.827   Cond. No.                     1.54e+05\n",
            "==============================================================================\n",
            "\n",
            "Warnings:\n",
            "[1] Standard Errors assume that the covariance matrix of the errors is correctly specified.\n",
            "[2] The condition number is large, 1.54e+05. This might indicate that there are\n",
            "strong multicollinearity or other numerical problems.\n"
          ],
          "name": "stdout"
        }
      ]
    },
    {
      "cell_type": "markdown",
      "metadata": {
        "id": "7nV-b9CokfCn"
      },
      "source": [
        "Based on the test outputs, with a t-stat of 3.525 and a P value of < 0.05, we can reject the null hypthesis and state that after accounting for changes in the money supply, there is a statistically significant relationship between corporate earnings and the SP500 Index. "
      ]
    },
    {
      "cell_type": "markdown",
      "metadata": {
        "id": "R3esi3l4kB-Z"
      },
      "source": [
        "###*Let's use the model_M2_CP and add the risk-free rate to see it's effects.*\n",
        "\n",
        "Ho: $\\beta_3$ = 0\n",
        "\n",
        "Ha: $\\beta_3 \\neq$ 0\n",
        "\n",
        "The Null Hypthothesis states that after accounting for the effects of the M2 money supply, and after-tax coroprate earnings, there is no significant relationship between the risk-free rate and the SP500 Index level. "
      ]
    },
    {
      "cell_type": "code",
      "metadata": {
        "colab": {
          "base_uri": "https://localhost:8080/"
        },
        "id": "0vh4gZ-kexRf",
        "outputId": "d0cfcd37-4dab-4df2-9a85-deb9659e5637"
      },
      "source": [
        "# Let's use the model_M2_CP and add the risk-free rate to see it's effects.\n",
        "\n",
        "# Adjusted R-squared improves to about 95%\n",
        "# After accounting for changes in the money supply, and corporate profits, the  \n",
        "# risk-free rate appears to be significantly associated SP500 Index levels. \n",
        "\n",
        "model_M2_CP_10year = ols('SP500 ~ M2 + CPATAX + DGS10', data=SP_10yr_M2_CP).fit()\n",
        "print(model_M2_CP_10year.summary())"
      ],
      "execution_count": null,
      "outputs": [
        {
          "output_type": "stream",
          "text": [
            "                            OLS Regression Results                            \n",
            "==============================================================================\n",
            "Dep. Variable:                  SP500   R-squared:                       0.957\n",
            "Model:                            OLS   Adj. R-squared:                  0.953\n",
            "Method:                 Least Squares   F-statistic:                     259.6\n",
            "Date:                Fri, 08 Jan 2021   Prob (F-statistic):           5.78e-24\n",
            "Time:                        01:34:01   Log-Likelihood:                -242.98\n",
            "No. Observations:                  39   AIC:                             494.0\n",
            "Df Residuals:                      35   BIC:                             500.6\n",
            "Df Model:                           3                                         \n",
            "Covariance Type:            nonrobust                                         \n",
            "==============================================================================\n",
            "                 coef    std err          t      P>|t|      [0.025      0.975]\n",
            "------------------------------------------------------------------------------\n",
            "Intercept  -2290.2451    257.980     -8.878      0.000   -2813.973   -1766.517\n",
            "M2             0.2534      0.016     15.694      0.000       0.221       0.286\n",
            "CPATAX         0.5016      0.213      2.356      0.024       0.069       0.934\n",
            "DGS10        177.9690     40.387      4.407      0.000      95.979     259.959\n",
            "==============================================================================\n",
            "Omnibus:                       16.537   Durbin-Watson:                   1.480\n",
            "Prob(Omnibus):                  0.000   Jarque-Bera (JB):               27.116\n",
            "Skew:                           1.084   Prob(JB):                     1.29e-06\n",
            "Kurtosis:                       6.462   Cond. No.                     1.58e+05\n",
            "==============================================================================\n",
            "\n",
            "Warnings:\n",
            "[1] Standard Errors assume that the covariance matrix of the errors is correctly specified.\n",
            "[2] The condition number is large, 1.58e+05. This might indicate that there are\n",
            "strong multicollinearity or other numerical problems.\n"
          ],
          "name": "stdout"
        }
      ]
    }
  ]
}